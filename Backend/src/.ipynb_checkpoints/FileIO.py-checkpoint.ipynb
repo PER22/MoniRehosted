{
 "cells": [
  {
   "cell_type": "code",
   "execution_count": 1,
   "metadata": {},
   "outputs": [],
   "source": [
    "#Imports Only\n",
    "import os\n",
    "from os.path import dirname\n",
    "from Stock import Stock \n",
    "import glob"
   ]
  },
  {
   "cell_type": "code",
   "execution_count": 2,
   "metadata": {},
   "outputs": [],
   "source": [
    "#FileIO class\n",
    "class FileIO:\n",
    "    def __init__(self):\n",
    "        #create empty lists for tickers and pricelists\n",
    "        self.stock_ticker_list = []\n",
    "        self.etf_ticker_list = []\n",
    "        self.stock_list = []\n",
    "        self.etf_list = []\n",
    "        \n",
    "        #empty dictionary for all stocks/ETFs\n",
    "        self.all_stocks = {}\n",
    "        self.all_etfs = {}\n",
    "    \n",
    "        #go to correct file location to see the different companies.\n",
    "        current_working_directory = os.getcwd()\n",
    "        data_directory = os.path.dirname(current_working_directory) + os.sep + \"data\" + os.sep\n",
    "        #Stocks directory\n",
    "        self.stocks_directory = data_directory + \"Stocks\" + os.sep\n",
    "        #ETFs directory\n",
    "        self.etfs_directory = data_directory + \"ETFs\" + os.sep\n",
    "        \n",
    "\n",
    "        \n",
    "    \n",
    "    def load(self):\n",
    "        unformatted_stock_file_names = os.listdir(self.stocks_directory)\n",
    "        #Grab all stock/ETF tickers\n",
    "        for each in unformatted_stock_file_names:\n",
    "            self.stock_ticker_list.append(each.replace(\".us.txt\", \"\"))\n",
    "        unformatted_etf_file_names = os.listdir(self.etfs_directory)\n",
    "        for each in unformatted_etf_file_names:\n",
    "            self.etf_ticker_list.append(each.replace(\".us.txt\", \"\"))\n",
    "        \n",
    "\n",
    "        count_rows_processed = 0\n",
    "        #Use stock/ETF tickers to create an object for each   \n",
    "        for each_ticker in self.stock_ticker_list:\n",
    "            self.all_stocks[each_ticker] = Stock(each_ticker)\n",
    "            file = open(self.stocks_directory + str(each_ticker) + \".us.txt\", \"r\")\n",
    "            file_contents = str(file.read())\n",
    "            lines = file_contents.splitlines();\n",
    "            count_rows_processed += len(lines)\n",
    "            for i in range (1,len(lines)):\n",
    "                comma_sep_vals = str(lines[i]).split(\",\")\n",
    "                self.all_stocks[each_ticker].data.append(comma_sep_vals)\n",
    "            file.close()\n",
    "            \n",
    "        for each_ticker in self.etf_ticker_list:\n",
    "            self.all_etfs[each_ticker] = Stock(each_ticker)\n",
    "            file = open(self.etfs_directory + str(each_ticker) + \".us.txt\", \"r\")\n",
    "            file_contents = str(file.read())\n",
    "            lines = file_contents.splitlines();\n",
    "            count_rows_processed += len(lines)\n",
    "            for i in range (1,len(lines)):\n",
    "                comma_sep_vals = str(lines[i]).split(\",\")\n",
    "                self.all_etfs[each_ticker].data.append(comma_sep_vals)\n",
    "            file.close()\n",
    "\n",
    "        \n",
    "        print(str(count_rows_processed) + \" rows processed.\")    "
   ]
  },
  {
   "cell_type": "code",
   "execution_count": 3,
   "metadata": {},
   "outputs": [
    {
     "name": "stdout",
     "output_type": "stream",
     "text": [
      "17461750 rows processed.\n"
     ]
    }
   ],
   "source": [
    "fileio = FileIO()\n",
    "fileio.load()\n",
    "\n"
   ]
  },
  {
   "cell_type": "code",
   "execution_count": null,
   "metadata": {},
   "outputs": [],
   "source": [
    "\n"
   ]
  },
  {
   "cell_type": "code",
   "execution_count": null,
   "metadata": {},
   "outputs": [],
   "source": []
  }
 ],
 "metadata": {
  "kernelspec": {
   "display_name": "Python 3",
   "language": "python",
   "name": "python3"
  },
  "language_info": {
   "codemirror_mode": {
    "name": "ipython",
    "version": 3
   },
   "file_extension": ".py",
   "mimetype": "text/x-python",
   "name": "python",
   "nbconvert_exporter": "python",
   "pygments_lexer": "ipython3",
   "version": "3.7.9"
  }
 },
 "nbformat": 4,
 "nbformat_minor": 4
}
